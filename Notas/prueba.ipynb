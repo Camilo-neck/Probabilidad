{
 "cells": [
  {
   "cell_type": "code",
   "execution_count": 2,
   "metadata": {},
   "outputs": [
    {
     "name": "stdout",
     "output_type": "stream",
     "text": [
      "T-test for mean difference:\n",
      "0.9979973861196648\n",
      "Statistics (t)=3.020, p-value=0.99800\n",
      "Sample looks Gaussian (fail to reject H0)\n"
     ]
    }
   ],
   "source": [
    "from tests import t_test, test_shapiro, test_var_chi2\n",
    "import numpy as np\n",
    "\n",
    "np.random.seed(123)\n",
    "x = np.random.normal(25.5, 1, 50)\n",
    "t_test(x, mu=25, conf_level=0.95, alternative='menor')"
   ]
  }
 ],
 "metadata": {
  "kernelspec": {
   "display_name": "Python 3.10.3 64-bit (system)",
   "language": "python",
   "name": "python3"
  },
  "language_info": {
   "codemirror_mode": {
    "name": "ipython",
    "version": 3
   },
   "file_extension": ".py",
   "mimetype": "text/x-python",
   "name": "python",
   "nbconvert_exporter": "python",
   "pygments_lexer": "ipython3",
   "version": "3.10.3"
  },
  "orig_nbformat": 4,
  "vscode": {
   "interpreter": {
    "hash": "b17fd1dddc0eea5a4c6c6ad83be792ca69104a4423dd05112dcf37de05bc9667"
   }
  }
 },
 "nbformat": 4,
 "nbformat_minor": 2
}
