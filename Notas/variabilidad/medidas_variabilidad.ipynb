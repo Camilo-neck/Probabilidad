{
 "cells": [
  {
   "cell_type": "code",
   "execution_count": 1,
   "metadata": {},
   "outputs": [],
   "source": [
    "import numpy as np\n",
    "import pandas as pd"
   ]
  },
  {
   "cell_type": "markdown",
   "metadata": {},
   "source": [
    "**2.2 Ejemplo**\n",
    "\n",
    "Los datos que se presentan a continuación corresponden a los tiempos (en minutos) de ejecución de una tarea determinada de una muestra de empleados de dos empresas.\n",
    "\n",
    "Empresa 1: $34.5, 30.7, 32.9, 36.0, 34.1, 34.0, 32.3$\n",
    "\n",
    "Empresa 2: $34.0, 27.5, 31.6, 39.7, 35.3, 34.7, 31.7$\n",
    "\n",
    "Calcular e interpretar el rango en cada caso.\n",
    "\n",
    "El rango de la empresa 1 es\n",
    "$$\n",
    "R=x_{max}−x_{min}=36.0−30.7=5.3,\n",
    "$$\n",
    "mientras que el rango de la empresa 2 es\n",
    "$$\n",
    "R=x_{max}−x_{min}=39.7−27.5=12.2.\n",
    "$$\n",
    "Se observa que el recorrido de los tiempos de la segunda empresa es mayor que el recorrido de los tiempos de la primera en 6.9 minutos."
   ]
  },
  {
   "cell_type": "code",
   "execution_count": 2,
   "metadata": {},
   "outputs": [
    {
     "data": {
      "text/plain": [
       "5.300000000000001"
      ]
     },
     "execution_count": 2,
     "metadata": {},
     "output_type": "execute_result"
    }
   ],
   "source": [
    "# Datos de la primera empresa\n",
    "x_1 = np.array([34.5, 30.7, 32.9, 36.0, 34.1, 34.0, 32.3])\n",
    "# Datos de la segunda empresa\n",
    "x_2 = np.array([34.0, 27.5, 31.6, 39.7, 35.3, 34.7, 31.7])\n",
    "# Rango\n",
    "x_1.max()-x_1.min()"
   ]
  },
  {
   "cell_type": "code",
   "execution_count": 3,
   "metadata": {},
   "outputs": [
    {
     "data": {
      "text/plain": [
       "12.200000000000003"
      ]
     },
     "execution_count": 3,
     "metadata": {},
     "output_type": "execute_result"
    }
   ],
   "source": [
    "x_2.max() - x_2.min()"
   ]
  },
  {
   "cell_type": "code",
   "execution_count": 4,
   "metadata": {},
   "outputs": [
    {
     "data": {
      "text/plain": [
       "5.300000000000001"
      ]
     },
     "execution_count": 4,
     "metadata": {},
     "output_type": "execute_result"
    }
   ],
   "source": [
    "np.diff([x_1.min(), x_1.max()])[0]"
   ]
  },
  {
   "cell_type": "code",
   "execution_count": 5,
   "metadata": {},
   "outputs": [
    {
     "data": {
      "text/plain": [
       "12.200000000000003"
      ]
     },
     "execution_count": 5,
     "metadata": {},
     "output_type": "execute_result"
    }
   ],
   "source": [
    "np.diff([x_2.min(), x_2.max()])[0]"
   ]
  },
  {
   "cell_type": "markdown",
   "metadata": {},
   "source": [
    "**3.2 Ejemplo**\n",
    "\n",
    "El rango intercuartílico de la empresa 1 es\n",
    "$$\n",
    "RI=Q_3−Q_1=34.30−32.60=1.70,\n",
    "$$\n",
    "mientras que el rango intercuartílico de la empresa 2 es\n",
    "$$\n",
    "RI=Q_3−Q_1=35.00−31.65=3.35.\n",
    "$$\n",
    "Se observa que el recorrido del 50% de los tiempos “intermedios” de la segunda empresa es mayor que el mismo recorrido de los tiempos de la primera en 1.65 minutos. Aunque todavía hay una diferencia clara, no es tan notoria como sí lo es con el rango, lo que sugiere que hay tiempos considerablemente superiores en la primera empresa en comparación con la segunda."
   ]
  },
  {
   "cell_type": "code",
   "execution_count": 6,
   "metadata": {},
   "outputs": [
    {
     "data": {
      "text/plain": [
       "1.7000000000000028"
      ]
     },
     "execution_count": 6,
     "metadata": {},
     "output_type": "execute_result"
    }
   ],
   "source": [
    "np.diff(np.quantile(x_1, [0.25, 0.75]))[0]"
   ]
  },
  {
   "cell_type": "code",
   "execution_count": 7,
   "metadata": {},
   "outputs": [
    {
     "data": {
      "text/plain": [
       "3.3500000000000014"
      ]
     },
     "execution_count": 7,
     "metadata": {},
     "output_type": "execute_result"
    }
   ],
   "source": [
    "np.diff(np.quantile(x_2, [0.25, 0.75]))[0]"
   ]
  },
  {
   "cell_type": "markdown",
   "metadata": {},
   "source": [
    "**5.3 Ejemplo**\n",
    "\n",
    "Se tienen los siguientes conjuntos de datos:\n",
    "\n",
    "Conjunto de datos I: 50, 50, 50, 50 , 50\n",
    "\n",
    "Conjunto de datos II: 45, 50, 55, 47 , 53\n",
    "\n",
    "Conjunto de datos III: 3, 97, 10, 105, 35\n",
    "\n",
    "A continuación se presenta el valor del promedio y de la varianza para los tres conjuntos de datos, junto con un diagrama de caja para cada uno.\n",
    "\n",
    "Conjunto\t$\\bar{x}$\t\n",
    "$s_2$\n",
    "I\t50\t0.0\n",
    "II\t50\t17.0\n",
    "III\t50\t2317.0\n",
    "¿Para cuál de los tres conjuntos la media resulta ser una buena representación de los datos? ¿Para cuál la peor? ¿Por qué?"
   ]
  },
  {
   "cell_type": "code",
   "execution_count": 13,
   "metadata": {},
   "outputs": [
    {
     "data": {
      "text/plain": [
       "50.0"
      ]
     },
     "execution_count": 13,
     "metadata": {},
     "output_type": "execute_result"
    }
   ],
   "source": [
    "#Datos\n",
    "x_1 = np.repeat(50, 5)\n",
    "x_2 = np.array([45, 50, 55, 47, 53])\n",
    "x_3 = np.array([3, 97, 10, 105, 35])\n",
    "#Promedio\n",
    "np.mean(x_1)"
   ]
  },
  {
   "cell_type": "code",
   "execution_count": 14,
   "metadata": {},
   "outputs": [
    {
     "data": {
      "text/plain": [
       "50.0"
      ]
     },
     "execution_count": 14,
     "metadata": {},
     "output_type": "execute_result"
    }
   ],
   "source": [
    "np.mean(x_2)"
   ]
  },
  {
   "cell_type": "code",
   "execution_count": 15,
   "metadata": {},
   "outputs": [
    {
     "data": {
      "text/plain": [
       "50.0"
      ]
     },
     "execution_count": 15,
     "metadata": {},
     "output_type": "execute_result"
    }
   ],
   "source": [
    "np.mean(x_3)"
   ]
  },
  {
   "cell_type": "code",
   "execution_count": 39,
   "metadata": {},
   "outputs": [
    {
     "name": "stdout",
     "output_type": "stream",
     "text": [
      "0.0\n",
      "17.0\n",
      "2317.0\n"
     ]
    }
   ],
   "source": [
    "print(np.var(x_1, ddof=1))\n",
    "print(np.var(x_2, ddof=1))\n",
    "print(np.var(x_3, ddof=1))"
   ]
  },
  {
   "cell_type": "code",
   "execution_count": 41,
   "metadata": {},
   "outputs": [],
   "source": [
    "def variance(x: np.ndarray) -> float:\n",
    "\tn = len(x)\n",
    "\tprom = np.mean(x)\n",
    "\tsuma = sum(x**2) - n*(prom**2)\n",
    "\treturn suma/(n-1)"
   ]
  },
  {
   "cell_type": "code",
   "execution_count": 42,
   "metadata": {},
   "outputs": [
    {
     "name": "stdout",
     "output_type": "stream",
     "text": [
      "0.0\n",
      "17.0\n",
      "2317.0\n"
     ]
    }
   ],
   "source": [
    "print(variance(x_1))\n",
    "print(variance(x_2))\n",
    "print(variance(x_3))"
   ]
  },
  {
   "cell_type": "markdown",
   "metadata": {},
   "source": [
    "**6.1.1 Ejemplo**\n",
    "\n",
    "Teniendo en cuenta los datos del Ejemplo 1, estandarizar las observaciones de cada empresa. Comentar los resultados obtenidos.\n",
    "\n",
    "En este caso se tiene que\n",
    "$$\n",
    "\\bar{x}_1=33.500,\\ s_1=1.708,\\ \\bar{x}_2=33.500 \\ y \\ s_2=3.791\n",
    "$$\n",
    "donde $\\bar{x}$ y si son respectivamente la media muestral y la desviación estándar muestral de los tiempos (en minutos) de ejecución en cada empresa, con $i=1,2$.\n",
    "\n",
    "Los tiempos estandarizados en cada caso son:\n",
    "\n",
    "Empresa 1: $0.585, −1.639, −0.351, 1.463, 0.351, 0.292, −0.702$\n",
    "\n",
    "Empresa 2: $0.131, −1.582, −0.501, 1.635, 0.474, 0.316, −0.474$\n",
    "\n",
    "Por ejemplo, se observa que el individuo 1 de la primera empresa es definitivamente más lento en su contexto que el individuo 1 de la segunda compañía a pesar de que tienen tiempos muy próximos."
   ]
  },
  {
   "cell_type": "code",
   "execution_count": 43,
   "metadata": {},
   "outputs": [
    {
     "name": "stdout",
     "output_type": "stream",
     "text": [
      "33.5\n"
     ]
    }
   ],
   "source": [
    "# Datos de la empresa 1\n",
    "x_1 = np.array([34.5, 30.7, 32.9, 36.0, 34.1, 34.0, 32.3])\n",
    "# Datos de la empresa 2\n",
    "x_2 = np.array([34.0, 27.5, 31.6, 39.7, 35.3, 34.7, 31.7])\n",
    "# Promedio y desviación estándar empresa 1\n",
    "m_1 = x_1.mean()\n",
    "print(m_1)"
   ]
  },
  {
   "cell_type": "code",
   "execution_count": 45,
   "metadata": {},
   "outputs": [
    {
     "name": "stdout",
     "output_type": "stream",
     "text": [
      "1.7078251276599339\n"
     ]
    }
   ],
   "source": [
    "s_1 = x_1.std(ddof=1)\n",
    "print(s_1)"
   ]
  },
  {
   "cell_type": "code",
   "execution_count": 46,
   "metadata": {},
   "outputs": [
    {
     "name": "stdout",
     "output_type": "stream",
     "text": [
      "33.5\n"
     ]
    }
   ],
   "source": [
    "m_2 = x_2.mean()\n",
    "print(m_2)"
   ]
  },
  {
   "cell_type": "code",
   "execution_count": 47,
   "metadata": {},
   "outputs": [
    {
     "name": "stdout",
     "output_type": "stream",
     "text": [
      "3.7907782842049738\n"
     ]
    }
   ],
   "source": [
    "s_2 = x_2.std(ddof=1)\n",
    "print(s_2)"
   ]
  },
  {
   "cell_type": "code",
   "execution_count": 48,
   "metadata": {},
   "outputs": [
    {
     "data": {
      "text/plain": [
       "array([ 0.58554004, -1.63951212, -0.35132403,  1.46385011,  0.35132403,\n",
       "        0.29277002, -0.70264805])"
      ]
     },
     "execution_count": 48,
     "metadata": {},
     "output_type": "execute_result"
    }
   ],
   "source": [
    "# Datos estandarizados empresa 1\n",
    "(x_1 - m_1)/s_1"
   ]
  },
  {
   "cell_type": "code",
   "execution_count": 49,
   "metadata": {},
   "outputs": [
    {
     "data": {
      "text/plain": [
       "array([ 0.13189904, -1.58278843, -0.50121634,  1.63554804,  0.47483653,\n",
       "        0.31655769, -0.47483653])"
      ]
     },
     "execution_count": 49,
     "metadata": {},
     "output_type": "execute_result"
    }
   ],
   "source": [
    "# Datos estandarizados empresa 2\n",
    "(x_2 - m_2)/s_2"
   ]
  },
  {
   "cell_type": "code",
   "execution_count": 55,
   "metadata": {},
   "outputs": [
    {
     "data": {
      "text/plain": [
       "-2.854859206178974e-16"
      ]
     },
     "execution_count": 55,
     "metadata": {},
     "output_type": "execute_result"
    }
   ],
   "source": [
    "np.mean((x_1 - m_1)/s_1)"
   ]
  },
  {
   "cell_type": "code",
   "execution_count": 56,
   "metadata": {},
   "outputs": [
    {
     "data": {
      "text/plain": [
       "0.9999999999999999"
      ]
     },
     "execution_count": 56,
     "metadata": {},
     "output_type": "execute_result"
    }
   ],
   "source": [
    "np.var((x_1 - m_1)/s_1, ddof=1)"
   ]
  },
  {
   "cell_type": "code",
   "execution_count": 57,
   "metadata": {},
   "outputs": [
    {
     "data": {
      "text/plain": [
       "9.516197353929913e-17"
      ]
     },
     "execution_count": 57,
     "metadata": {},
     "output_type": "execute_result"
    }
   ],
   "source": [
    "np.mean((x_2 - m_2)/s_2)"
   ]
  },
  {
   "cell_type": "code",
   "execution_count": 58,
   "metadata": {},
   "outputs": [
    {
     "data": {
      "text/plain": [
       "1.0"
      ]
     },
     "execution_count": 58,
     "metadata": {},
     "output_type": "execute_result"
    }
   ],
   "source": [
    "np.var((x_2 - m_2)/s_2, ddof=1)"
   ]
  }
 ],
 "metadata": {
  "interpreter": {
   "hash": "2be5faf79681da6f2a61fdfdd5405d65d042280f7fba6178067603e3a2925119"
  },
  "kernelspec": {
   "display_name": "Python 3.10.3 64-bit",
   "language": "python",
   "name": "python3"
  },
  "language_info": {
   "codemirror_mode": {
    "name": "ipython",
    "version": 3
   },
   "file_extension": ".py",
   "mimetype": "text/x-python",
   "name": "python",
   "nbconvert_exporter": "python",
   "pygments_lexer": "ipython3",
   "version": "3.10.3"
  },
  "orig_nbformat": 4
 },
 "nbformat": 4,
 "nbformat_minor": 2
}
