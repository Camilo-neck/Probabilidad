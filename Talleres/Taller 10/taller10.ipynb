{
 "cells": [
  {
   "cell_type": "code",
   "execution_count": 1,
   "metadata": {},
   "outputs": [],
   "source": [
    "import numpy as np\n",
    "import scipy.stats as stats"
   ]
  },
  {
   "cell_type": "code",
   "execution_count": 28,
   "metadata": {},
   "outputs": [
    {
     "name": "stdout",
     "output_type": "stream",
     "text": [
      "0.42377041884724026 0.5294211424931912 0.692465076062796 0.9587309128621846\n"
     ]
    }
   ],
   "source": [
    "norm = stats.norm(loc=0, scale=1)\n",
    "\n",
    "mu = 939.0\n",
    "sigma = 245\n",
    "var = sigma**2\n",
    "sigma1 = np.sqrt(var/30)\n",
    "sigma2 = np.sqrt(var/50)\n",
    "sigma3 = np.sqrt(var/100)\n",
    "sigma4 = np.sqrt(var/400)\n",
    "p1 = norm.cdf((mu+25-mu)/sigma1)- norm.cdf((mu-25-mu)/sigma1)\n",
    "p2 = norm.cdf((mu+25-mu)/sigma2) - norm.cdf((mu-25-mu)/sigma2)\n",
    "p3 = norm.cdf((mu+25-mu)/sigma3) - norm.cdf((mu-25-mu)/sigma3)\n",
    "p4 = norm.cdf((mu+25-mu)/sigma4) - norm.cdf((mu-25-mu)/sigma4)\n",
    "print(p1, p2, p3, p4)"
   ]
  },
  {
   "cell_type": "code",
   "execution_count": 29,
   "metadata": {},
   "outputs": [
    {
     "name": "stdout",
     "output_type": "stream",
     "text": [
      "0.03987761167674497\n"
     ]
    }
   ],
   "source": [
    "mu = 0\n",
    "sigma = 500\n",
    "p = norm.cdf((mu+25-mu)/sigma) - norm.cdf((mu-25-mu)/sigma)\n",
    "print(p)"
   ]
  },
  {
   "cell_type": "code",
   "execution_count": 39,
   "metadata": {},
   "outputs": [
    {
     "name": "stdout",
     "output_type": "stream",
     "text": [
      "z925: 123983.34 <= μ <= 114326.66\n",
      "z975: 125728.92 <= μ <= 112581.08\n",
      "z1015: 126957.81 <= μ <= 111352.19\n"
     ]
    }
   ],
   "source": [
    "mean = 119_155\n",
    "sigma = 30_000\n",
    "n = 80\n",
    "z925 = norm.ppf(0.925)\n",
    "li925 = mean + z925*(sigma/np.sqrt(n))\n",
    "ls925 = mean - z925*(sigma/np.sqrt(n))\n",
    "print(f\"z925: {li925:.2f} <= μ <= {ls925:.2f}\")\n",
    "z975 = norm.ppf(0.975)\n",
    "li975 = mean + z975*(sigma/np.sqrt(n))\n",
    "ls975 = mean - z975*(sigma/np.sqrt(n))\n",
    "print(f\"z975: {li975:.2f} <= μ <= {ls975:.2f}\")\n",
    "z1015 = norm.ppf(0.99)\n",
    "li1015 = mean + z1015*(sigma/np.sqrt(n))\n",
    "ls1015 = mean - z1015*(sigma/np.sqrt(n))\n",
    "print(f\"z1015: {li1015:.2f} <= μ <= {ls1015:.2f}\")"
   ]
  }
 ],
 "metadata": {
  "kernelspec": {
   "display_name": "Python 3.10.3 64-bit (system)",
   "language": "python",
   "name": "python3"
  },
  "language_info": {
   "codemirror_mode": {
    "name": "ipython",
    "version": 3
   },
   "file_extension": ".py",
   "mimetype": "text/x-python",
   "name": "python",
   "nbconvert_exporter": "python",
   "pygments_lexer": "ipython3",
   "version": "3.10.3"
  },
  "orig_nbformat": 4,
  "vscode": {
   "interpreter": {
    "hash": "b17fd1dddc0eea5a4c6c6ad83be792ca69104a4423dd05112dcf37de05bc9667"
   }
  }
 },
 "nbformat": 4,
 "nbformat_minor": 2
}
