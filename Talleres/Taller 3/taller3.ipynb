{
 "cells": [
  {
   "cell_type": "markdown",
   "metadata": {},
   "source": [
    "<center><h1>Taller 3 - Solución</h1></center>"
   ]
  },
  {
   "cell_type": "code",
   "execution_count": 1,
   "metadata": {},
   "outputs": [],
   "source": [
    "import numpy as np\n",
    "import pandas as pd"
   ]
  },
  {
   "cell_type": "markdown",
   "metadata": {},
   "source": [
    "1.Considere le siguiente distribución de frecuencias:\n",
    "\n",
    "a)  Completar la tabla."
   ]
  },
  {
   "cell_type": "code",
   "execution_count": 2,
   "metadata": {},
   "outputs": [
    {
     "name": "stdout",
     "output_type": "stream",
     "text": [
      "           Marca de clase  F. Absoluta  F. Relativa  F. Absoluta Acum  F. Relativa Acum\n",
      "[0;10]                5.0         60.0         0.30              60.0              0.30\n",
      "(10;20]              15.0         80.0         0.40             140.0              0.70\n",
      "(20;30]              25.0         30.0         0.15             170.0              0.85\n",
      "(30;100]             65.0         20.0         0.10             190.0              0.95\n",
      "(100;200]           150.0         10.0         0.05             200.0              1.00\n",
      "Total               260.0        200.0         1.00               NaN               NaN\n"
     ]
    }
   ],
   "source": [
    "li = np.array([0, 10, 20, 30, 100])\n",
    "ls = np.array([10, 20, 30, 100, 200])\n",
    "\n",
    "yj = (li+ls)/2\n",
    "n = 200\n",
    "nj = np.zeros(len(yj))\n",
    "nj[0] = 60\n",
    "nj[1] = n*0.4\n",
    "nj[2] = 30\n",
    "nj[3] = n*0.1\n",
    "nj[4] = n-sum(nj[:len(nj)-1])\n",
    "hj = nj/n\n",
    "Nj = nj.cumsum()\n",
    "Hj = hj.cumsum()\n",
    "\n",
    "nj = np.append(nj, [sum(nj)])\n",
    "hj = np.append(hj, [1])\n",
    "yj = np.append(yj, [sum(yj)])\n",
    "\n",
    "table = pd.DataFrame([yj, nj, hj, Nj, Hj]).T\n",
    "table.columns = ['Marca de clase', 'F. Absoluta', 'F. Relativa', 'F. Absoluta Acum', 'F. Relativa Acum']\n",
    "table.index = [\"[0;10]\", \"(10;20]\", \"(20;30]\", \"(30;100]\", \"(100;200]\", \"Total\"]\n",
    "print(table.to_string())"
   ]
  },
  {
   "cell_type": "markdown",
   "metadata": {},
   "source": [
    "b) ¿Cuántos individuos asumen un valor de la variable de hasta 100? $\\\\$\n",
    "\t- 190 Estudiantes asumen un valor de la variable de hasta 100. $\\\\$\n",
    "c) ¿Qué porcentaje de individuos asumen un valor de la variable de entre 10 y 100? $\\\\$\n",
    "\t- 65% de los individuos asumen un valor de la variable de entre 10 y 100. $\\\\$\n",
    "e) Calcular el promedio de la variable. $\\\\$"
   ]
  },
  {
   "cell_type": "code",
   "execution_count": 3,
   "metadata": {},
   "outputs": [
    {
     "data": {
      "text/plain": [
       "285.25"
      ]
     },
     "execution_count": 3,
     "metadata": {},
     "output_type": "execute_result"
    }
   ],
   "source": [
    "mean = sum(hj*yj)\n",
    "mean"
   ]
  },
  {
   "cell_type": "markdown",
   "metadata": {},
   "source": [
    "2.Considere el conjunto de datos dados en el archivo de texto taller_03_datos.txt. Este archivo contiene las calificaciones promedio de una muestra aleatoria de estudiantes de una Universidad en el primer semestre de este año. A continuación se presenta el procedimiento importar este conjunto de datos en R."
   ]
  },
  {
   "cell_type": "code",
   "execution_count": 4,
   "metadata": {},
   "outputs": [],
   "source": [
    "# Importar base de datos\n",
    "data = pd.read_csv('taller_03_datos.txt', sep='\\t', header=None)[0].to_numpy()\n",
    "n = len(data)"
   ]
  },
  {
   "cell_type": "markdown",
   "metadata": {},
   "source": [
    "a) Calcular el máximo, el mínimo, el rango, y el promedio de las calificaciones."
   ]
  },
  {
   "cell_type": "code",
   "execution_count": 5,
   "metadata": {},
   "outputs": [
    {
     "name": "stdout",
     "output_type": "stream",
     "text": [
      "Maximo: 4.08\n",
      "Minimo: 3.4\n",
      "Rango: 0.68\n",
      "Promedio: 3.69899\n"
     ]
    }
   ],
   "source": [
    "# Maximo\n",
    "maximo = data.max()\n",
    "minimo = data.min()\n",
    "R = round(maximo - minimo, 3)\n",
    "promedio = data.mean()\n",
    "print(f'Maximo: {maximo}\\nMinimo: {minimo}\\nRango: {R}\\nPromedio: {promedio}')"
   ]
  },
  {
   "cell_type": "markdown",
   "metadata": {},
   "source": [
    "b) Hacer la distribución de frecuencias de las calificaciones con m=10 intervalos."
   ]
  },
  {
   "cell_type": "code",
   "execution_count": 6,
   "metadata": {},
   "outputs": [
    {
     "name": "stdout",
     "output_type": "stream",
     "text": [
      "                F. Absoluta  F. Relativa  F. Absoluta Acum  F. Relativa Acum\n",
      "(3.399, 3.468]         15.0        0.015              15.0             0.015\n",
      "(3.468, 3.536]         42.0        0.042              57.0             0.057\n",
      "(3.536, 3.604]        126.0        0.126             183.0             0.183\n",
      "(3.604, 3.672]        231.0        0.231             414.0             0.414\n",
      "(3.672, 3.74]         216.0        0.216             630.0             0.630\n",
      "(3.74, 3.808]         223.0        0.223             853.0             0.853\n",
      "(3.808, 3.876]         97.0        0.097             950.0             0.950\n",
      "(3.876, 3.944]         45.0        0.045             995.0             0.995\n",
      "(3.944, 4.012]          4.0        0.004             999.0             0.999\n",
      "(4.012, 4.08]           1.0        0.001            1000.0             1.000\n"
     ]
    }
   ],
   "source": [
    "# Intervalos\n",
    "m = 10\n",
    "# Amplitud\n",
    "a = R/m\n",
    "# Limites\n",
    "lim = np.array(list(map(lambda x: (x*a)+min(data), np.arange(m+1))))\n",
    "nj = pd.cut(sorted(data), lim, include_lowest=True).value_counts()\n",
    "hj = nj/n\n",
    "Nj = nj.cumsum()\n",
    "Hj = hj.cumsum()\n",
    "\n",
    "table = pd.DataFrame([nj, hj, Nj, Hj]).T\n",
    "table.columns = ['F. Absoluta', 'F. Relativa', 'F. Absoluta Acum', 'F. Relativa Acum']\n",
    "print(table)"
   ]
  },
  {
   "cell_type": "markdown",
   "metadata": {},
   "source": [
    "3.Se estudiaron dos métodos de recuperación de proteínas. Se hicieron trece corridas usando cada método y se registró la parte de la proteína recuperada para cada corrida. Los resultados son los siguientes: Método 1: $0.32, 0.35, 0.37, 0.39, 0.42, 0.47, 0.51, 0.58, 0.60, 0.62, 0.65, 0.68, 0.75. Método 2: 0.25, 0.40, 0.48, 0.55, 0.56, 0.58, 0.60, 0.65, 0.70, 0.76, 0.80, 0.91, 0.99$. Calcular el mínimo, el máximo, el rango, y el promedio de cada método. ¿Qué diferencias se observan entre los resultados de los dos métodos?"
   ]
  },
  {
   "cell_type": "code",
   "execution_count": 7,
   "metadata": {},
   "outputs": [
    {
     "name": "stdout",
     "output_type": "stream",
     "text": [
      "Maximo: 0.75\n",
      "Minimo: 0.32\n",
      "Rango: 0.43\n",
      "Promedio: 0.5161538461538462\n",
      "--------------------------------------------------\n",
      "Maximo: 0.99\n",
      "Minimo: 0.25\n",
      "Rango: 0.74\n",
      "Promedio: 0.6330769230769231\n"
     ]
    }
   ],
   "source": [
    "x_1 = np.array([0.32, 0.35, 0.37, 0.39, 0.42, 0.47, 0.51, 0.58, 0.60, 0.62, 0.65, 0.68, 0.75])\n",
    "x_2 = np.array([0.25, 0.40, 0.48, 0.55, 0.56, 0.58, 0.60, 0.65, 0.70, 0.76, 0.80, 0.91, 0.99])\n",
    "# Cálculos del primer método\n",
    "min_1 = x_1.min()\n",
    "max_1 = x_1.max()\n",
    "R_1 = round(max_1 - min_1, 3)\n",
    "promedio_1 = x_1.mean()\n",
    "# Cálculos del segundo método\n",
    "min_2 = x_2.min()\n",
    "max_2 = x_2.max()\n",
    "R_2 = round(max_2 - min_2, 3)\n",
    "promedio_2 = x_2.mean()\n",
    "# Mostrar los resultados\n",
    "print(f'Maximo: {max_1}\\nMinimo: {min_1}\\nRango: {R_1}\\nPromedio: {promedio_1}')\n",
    "print('-'*50)\n",
    "print(f'Maximo: {max_2}\\nMinimo: {min_2}\\nRango: {R_2}\\nPromedio: {promedio_2}')"
   ]
  },
  {
   "cell_type": "markdown",
   "metadata": {},
   "source": [
    "4.Una muestra de temperaturas para iniciar una cierta reacción química dio un promedio muestral de 87.3 grados centígrados. ¿Cuál es el promedio muestral en grados Fahrenheit?"
   ]
  },
  {
   "cell_type": "code",
   "execution_count": 8,
   "metadata": {},
   "outputs": [
    {
     "name": "stdout",
     "output_type": "stream",
     "text": [
      "30.72°C\n"
     ]
    }
   ],
   "source": [
    "farenheit = 87.3\n",
    "celsius = (farenheit - 32)*5/9\n",
    "print(f'{round(celsius, 2)}°C')"
   ]
  },
  {
   "cell_type": "markdown",
   "metadata": {},
   "source": [
    "5.Veintiuna personas tienen una estatura promedio de 168 centímetros. Si se considera la información de una persona adicional, ¿cuál es la estatura que debe tener esta persona para que la estatura promedio se incremente dos centímetros?\n",
    "\n",
    "*n_personas $(n)$ = $21$* $\\\\$\n",
    "*promedio $(\\bar{x})$ = $168$* $\\\\$\n",
    "*estatura_adicional = $h$* $\\\\$\n",
    "*promedio_nuevo $(\\bar{x}_f)$ = $\\bar{x} + 2$* $\\\\$\n",
    "\n",
    "$$\n",
    "\\begin{align*}\n",
    "&\\bar{x}_f = \\frac{1}{n+1} * ((n * \\bar{x})+h) \\\\\n",
    "&h = \\left(\\bar{x}_f * \\left(n+1\\right) \\right) - \\left(n * \\bar{x}\\right) \\\\\n",
    "&= \\left(\\left(168+2\\right) * \\left(21+1\\right) \\right) - \\left(21 * 168\\right) \\\\\n",
    "&= \\left(170 * 22 \\right) - 3.528 \\\\\n",
    "&= 3.740 - 3.528 \\\\\n",
    "&= 212_{cm} \\\\\n",
    "&\\text{In code would look like:} \\\\ \\\\\n",
    "&h= \\left(\\bar{x}_f * \\left(n+1\\right) \\right) - \\left(n * \\bar{x}\\right) \\\\\n",
    "\\end{align*}\n",
    "$$\n",
    "\n",
    "Se halló la diferencia de las sumas de los dos promedios (muestra de $21$ personas y muestra de $22$ personas) dándonos como resultado $212_{cm}$.\n"
   ]
  },
  {
   "cell_type": "code",
   "execution_count": 9,
   "metadata": {},
   "outputs": [
    {
     "data": {
      "text/plain": [
       "212"
      ]
     },
     "execution_count": 9,
     "metadata": {},
     "output_type": "execute_result"
    }
   ],
   "source": [
    "n = 21\n",
    "mean = 168\n",
    "mean_f = 168+2\n",
    "h = (mean_f*(n+1))-(n*mean)\n",
    "h"
   ]
  },
  {
   "cell_type": "markdown",
   "metadata": {},
   "source": [
    "6.Con la información dada en la siguiente tabla, calcular la calificación de un estudiante en la última unidad de la asignatura considerando que quiere aprobar la materia con 3.2."
   ]
  },
  {
   "cell_type": "code",
   "execution_count": 10,
   "metadata": {},
   "outputs": [],
   "source": [
    "# Percentiles\n",
    "v = np.array([0.2, 0.25, 0.2, 0.15])\n",
    "x = np.array([3.7, 2.4, 3.0, 3.2])\n",
    "mean = 3.2 "
   ]
  },
  {
   "cell_type": "markdown",
   "metadata": {},
   "source": [
    "El valor de la calificación de la última unidad es:\n",
    "$$\n",
    "\\begin{align*}\n",
    "&\\bar{x} = \\frac{\\sum_{i=1}^{n} x_iv_i}{\\sum_{i=1}^{n} v_i} \\Rightarrow\n",
    "\\bar{x} = \\frac{3.7 * 0.2 + 2.4 * 0.25 + 3.0 * 0.2 + 3.2 * 0.15 + x_n * 0.2}{0.2 + 0.25 + 0.2 + 0.15 + 0.2} \\\\\n",
    "&x_n = \\frac{\\left(\\bar{x} * \\left(0.2 + 0.25 + 0.2 + 0.15 + 0.2\\right) \\right) - \\left(3.7 * 0.2 + 2.4 * 0.25 + 3.0 * 0.2 + 3.2 * 0.15\\right)}{0.2} \\\\\n",
    "&= \\frac{\\left(\\bar{x} * 1 \\right) - \\left(0.74 + 0.6 + 0.6 + 0.48\\right)}{0.2} \\\\\n",
    "&= \\frac{\\bar{x} - 2.42}{0.2} \\\\\n",
    "&= \\frac{3.2 - 2.42}{0.2} \\\\\n",
    "&= \\frac{0.78}{0.2} \\\\\n",
    "&= 3.9 \\\\ \\\\\n",
    "&\\text{In code would look like:} \\\\ \\\\\n",
    "&x_n= \\left(\\left(\\bar{x} * sum\\left(v\\right)\\right) - sum\\left(x*v\\right)\\right)/0.2\n",
    "\\end{align*}\n",
    "$$"
   ]
  },
  {
   "cell_type": "code",
   "execution_count": 11,
   "metadata": {},
   "outputs": [
    {
     "data": {
      "text/plain": [
       "3.9"
      ]
     },
     "execution_count": 11,
     "metadata": {},
     "output_type": "execute_result"
    }
   ],
   "source": [
    "# Appling the formula\n",
    "l_p = 1-sum(v) # Last percentile value\n",
    "x_n = ((mean*(sum(v)+l_p)) - sum(x*v))/(l_p)\n",
    "round(x_n, 2)"
   ]
  },
  {
   "cell_type": "markdown",
   "metadata": {},
   "source": [
    "7.Un grupo de 200 estudiantes, cuya estatura promedio es de $160.96$ centímetros, se divide en dos grupos, uno con una estatura promedio de $163.4$ centímetros y otro, con una de $157.3$ centímetros. ¿Cuántos estudiantes tiene cada grupo?\n",
    "\n",
    "Tenemos: $\\\\$\n",
    "$\\bar{x} = 160.96 \\\\ \\bar{x}_1 = 163.4 \\\\ \\bar{x}_2 = 157.3 \\\\ n = 200 \\\\ n_1 = x \\\\ n_2 = y \\\\$\n",
    "Desarrollamos: $\\\\$\n",
    "$$\n",
    "\\begin{align*}\n",
    "\\text{Sabemos que:} \\\\\n",
    "&\\bar{x}_1*n_1 + \\bar{x}_2*n_2 =  \\sum_{i=1}^n x_i\\\\\n",
    "\\text{Así que calculamos: } \\sum_{i=1}^n x_i \\\\\n",
    "&\\sum_{i=1}^n x_i = \\bar{x} * n \\\\\n",
    "&= 160.96 * 200 \\\\\n",
    "&= 32192 \\\\\n",
    "\\text{Por lo tanto, tenemos: } \\\\\n",
    "&\\bar{x}_1*n_1 + \\bar{x}_2*n_2 = 32192 \\hspace{2cm} \\text{(1)}\\\\\n",
    "\\text{Y también: } \\\\\n",
    "&n_1 + n_2 = n \\\\\n",
    "&n_1 + n_2 = 200 \\hspace{2cm} \\text{(2)}\\\\\n",
    "&n_2 = 200 - n_1 \\hspace{2cm} \\text{(3)} \\\\\n",
    "\\text{Reemplazamos para calcular } n_1 \\text{:} \\\\\n",
    "&\\bar{x}_1n_1 + \\bar{x}_2*\\left(200 - n_1\\right) = 32192 \\hspace{0.5cm} \\text{[ Reemplazamos en la ecuación (1) con la ecuación (3) ]} \\\\\n",
    "&\\bar{x}_1n_1 + 200\\bar{x}_2 - \\bar{x}_2n_1 = 32192 \\hspace{0.5cm} \\text{[ Distibumos ]} \\\\\n",
    "&\\bar{x}_1n_1 - \\bar{x}_2n_1 = 32192 - 200\\bar{x}_2 \\hspace{0.5cm} \\text{[ Pasamos } 200\\bar{x}_2 \\text{ al otro lado ]} \\\\\n",
    "&163.4n_1 - 157.3n_1 = 32192 - (200 * 157.3) \\hspace{0.5cm} \\text{[ Reemplazamos ]} \\\\\n",
    "&6.1n_1 = 32192 - 31460 \\\\\n",
    "&6.1n_1 = 732 \\\\\n",
    "&n_1 = \\frac{732}{6.1} \\\\\n",
    "&n= 120 \\\\\n",
    "\\text{Ahora calculamos } n_2 \\text{:} \\\\\n",
    "&n_2 = 200 - n_1 \\hspace{0.5cm} \\text{[ Tomamos la ecuación (3) ]} \\\\\n",
    "&n_2= 200 - 120 \\hspace{0.5cm} \\text{[ Reemplazamos } n_1 \\text{ ]} \\\\\n",
    "&n_2= 80 \\\\\n",
    "\\end{align*}\n",
    "$$\n",
    "\n",
    "De modo que el primer grupo tiene 120 estudiantes y el segundo, 80."
   ]
  },
  {
   "cell_type": "code",
   "execution_count": 25,
   "metadata": {},
   "outputs": [
    {
     "name": "stdout",
     "output_type": "stream",
     "text": [
      "120 items in the first group\n",
      "80 items in the second group\n"
     ]
    }
   ],
   "source": [
    "# In code\n",
    "mean = 160.96\n",
    "mean_1 = 163.4\n",
    "mean_2 = 157.3\n",
    "n = 200\n",
    "items_sum = mean * n\n",
    "# Calculate n_1 with linear algebra formula using the ecuations (1) and (2)\n",
    "matrix = np.array([[1, 1], \n",
    "\t\t\t\t[mean_1, mean_2]])\n",
    "n_1, n_2 = np.linalg.solve(matrix, [n, items_sum])\n",
    "print(f'{round(n_1)} items in the first group')\n",
    "print(f'{round(n_2)} items in the second group')"
   ]
  },
  {
   "cell_type": "markdown",
   "metadata": {},
   "source": [
    "8.A continuación se presentan los salarios mensuales en miles de pesos, pagados por una empresa del Estado a su personal. En la empresa se presenta un conflicto laboral. El gerente propone un aumento del $2\\%$ para cada uno de los empleados, mientras que la junta directiva propone un aumento neto de 10 mil pesos mensuales.\n",
    "\n",
    "Con base en el promedio, ¿qué es más ventajoso para el Estado y qué para cada grupo de empleados?"
   ]
  },
  {
   "cell_type": "code",
   "execution_count": 13,
   "metadata": {},
   "outputs": [
    {
     "name": "stdout",
     "output_type": "stream",
     "text": [
      "Op1: 526.32 mil pesos\n",
      "Op2: 526.0 mil pesos\n"
     ]
    }
   ],
   "source": [
    "# Salarios de los empleados\n",
    "yj = np.array([300, 400, 500, 600, 700])\n",
    "# Empleados\n",
    "nj = np.array([10, 16, 35, 26, 13])\n",
    "# Numero total de empleados\n",
    "n = sum(nj)\n",
    "# Promedio\n",
    "mean = sum(nj*yj)/n\n",
    "# Aumentar 2%\n",
    "op1 = mean*1.02\n",
    "# Aumentar 10 mil pesos\n",
    "op2 = mean+10\n",
    "\n",
    "print(f'Op1: {op1} mil pesos\\nOp2: {op2} mil pesos')"
   ]
  },
  {
   "cell_type": "markdown",
   "metadata": {},
   "source": [
    "Por lo tanto al empleado le sale más comveniente un aumento del $2\\%$ pues ganarían $\\$526.320$ en promedio. Mientras que con la opción 2 ganarían $\\$526.000$ lo cual le conviene más al estado.\n",
    "\n",
    "9.Muestre que si $k_1$ y $k_2$ son constantes, entonces $M(k1+k2x)=k1+k2M(x)$. $\\\\$\n",
    "\n",
    "Demostración\\\\\\\\: $\\\\$\n",
    "$$\n",
    "\\begin{align*}\n",
    "&M(k_1+k_2x) \\\\\n",
    "&M(k_1+k_2x) = \\frac{1}{n} \\sum_{i=1}^n k_1 + k_2x_i \\hspace{0.5cm} \\text{[Por definición de promedio]}\\\\\n",
    "&= \\frac{1}{n} \\left(\\sum_{i=1}^n k_1 + \\sum_{i=1}^n k_2x_i\\right) \\hspace{0.5cm} \\text{[Distribuimos de la sumatoria]}\\\\\n",
    "&= \\frac{1}{n} \\left(k_1\\sum_{i=1}^n + k_2\\sum_{i=1}^n x_i \\hspace{0.5cm}\\right) \\text{[Sacamos las constantes de las sumatorias]}\\\\\n",
    "&= \\frac{1}{n} \\left(k_1*n + k_2\\sum_{i=1}^n x_i\\right) \\hspace{0.5cm} \\text{[Resolvemos la primera sumatoria (Sumatoria de 1 a n de 1 es n)]}\\\\\n",
    "&= k_1 + k_2\\frac{1}{n}\\sum_{i=1}^n x_i \\hspace{0.5cm} \\text{[Distribuimos 1/n (en el primer sumando se cancela la n)]}\\\\\n",
    "&= k_1 + k_2\\bar{x} \\hspace{0.5cm} \\text{[Reemplazamos }\\frac{1}{n}\\sum_{i=1}^n x_i = \\bar{x}\\text{]}\\\\\n",
    "&M(k_1+k_2x) = k_1 + k_2M(x) \\hspace{0.5cm} \\text{[Reemplazamos }\\bar{x} = M(x)\\text{]}\\\\\n",
    "\\end{align*}\n",
    "$$\n",
    "\n",
    "10.Considere un conjunto de datos particionados en $m$ grupos con tamaños $n_1,\\dots,n_m$ y medias $\\bar{x}_1,\\dots,\\bar{x}_m$, tales que $n_1=\\dots=n_m=c$. Muestre que si $n=c\\cdot m$, entonces la media de todo el conjunto de datos $\\bar{x}$ coincide con la media de las medias de los grupos $\\bar{\\bar{x}}$."
   ]
  },
  {
   "cell_type": "code",
   "execution_count": 14,
   "metadata": {},
   "outputs": [],
   "source": [
    "# Pendiente"
   ]
  }
 ],
 "metadata": {
  "interpreter": {
   "hash": "1d0906157e11aa65b1b51a334fa7da0f803f4f8a94c8dc72245129052afddad6"
  },
  "kernelspec": {
   "display_name": "Python 3.10.3 64-bit",
   "language": "python",
   "name": "python3"
  },
  "language_info": {
   "codemirror_mode": {
    "name": "ipython",
    "version": 3
   },
   "file_extension": ".py",
   "mimetype": "text/x-python",
   "name": "python",
   "nbconvert_exporter": "python",
   "pygments_lexer": "ipython3",
   "version": "3.10.3"
  },
  "orig_nbformat": 4
 },
 "nbformat": 4,
 "nbformat_minor": 2
}
