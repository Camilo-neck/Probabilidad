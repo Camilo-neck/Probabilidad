{
 "cells": [
  {
   "cell_type": "code",
   "execution_count": 2,
   "metadata": {},
   "outputs": [],
   "source": [
    "import numpy as np\n",
    "import scipy.stats as stats"
   ]
  },
  {
   "cell_type": "code",
   "execution_count": 9,
   "metadata": {},
   "outputs": [
    {
     "name": "stdout",
     "output_type": "stream",
     "text": [
      "Error: 0.008096625783992643\n"
     ]
    },
    {
     "data": {
      "text/plain": [
       "array([0.05590337, 0.07209663])"
      ]
     },
     "execution_count": 9,
     "metadata": {},
     "output_type": "execute_result"
    }
   ],
   "source": [
    "n=3000\n",
    "p = 0.064\n",
    "z = 0.93\n",
    "z93 = stats.norm.ppf((1+z)/2)\n",
    "err = z93*np.sqrt((p*(1-p))/n)\n",
    "print(\"Error:\", err)\n",
    "interval = p+np.array([-err, err])\n",
    "interval"
   ]
  },
  {
   "cell_type": "code",
   "execution_count": 14,
   "metadata": {},
   "outputs": [
    {
     "data": {
      "text/plain": [
       "array([46.49495791, 53.50504209])"
      ]
     },
     "execution_count": 14,
     "metadata": {},
     "output_type": "execute_result"
    }
   ],
   "source": [
    "n = 60\n",
    "mu = 50\n",
    "std = 10.2\n",
    "z995 = stats.t.ppf((1+0.99)/2, n-1)\n",
    "err = z995*np.sqrt((std**2)/n)\n",
    "interval = mu+np.array([-err, err])\n",
    "interval"
   ]
  },
  {
   "cell_type": "code",
   "execution_count": 35,
   "metadata": {},
   "outputs": [
    {
     "data": {
      "text/plain": [
       "array([0.41901046, 0.50098954])"
      ]
     },
     "execution_count": 35,
     "metadata": {},
     "output_type": "execute_result"
    }
   ],
   "source": [
    "n=400\n",
    "p = 0.46\n",
    "z95 = stats.norm.ppf((1+0.9)/2)\n",
    "err = z95*np.sqrt((p*(1-p))/n)\n",
    "interval = p+np.array([-err, err])\n",
    "interval"
   ]
  },
  {
   "cell_type": "code",
   "execution_count": 33,
   "metadata": {},
   "outputs": [
    {
     "data": {
      "text/plain": [
       "0.04824364859682785"
      ]
     },
     "execution_count": 33,
     "metadata": {},
     "output_type": "execute_result"
    }
   ],
   "source": [
    "N = 64\n",
    "p = 41/N\n",
    "z975 = 1.96\n",
    "err = 0.05\n",
    "n = (p*(1-p))/((err)/z975)**2\n",
    "z975*np.sqrt((p*(1-p))/380)"
   ]
  },
  {
   "cell_type": "code",
   "execution_count": 13,
   "metadata": {},
   "outputs": [
    {
     "data": {
      "text/plain": [
       "(array([-58.35113723, -35.38886277]),\n",
       " 11.481137229065647,\n",
       " 46.870000000000005,\n",
       " [0.042212031128112726, 0.0821186766976654],\n",
       " 0.7173285927924351,\n",
       " 1.3954807011947474)"
      ]
     },
     "execution_count": 13,
     "metadata": {},
     "output_type": "execute_result"
    }
   ],
   "source": [
    "n = 100\n",
    "X_bar = 27.89\n",
    "Y_bar = 74.76\n",
    "var_x = 4601.32\n",
    "var_y = 270.77\n",
    "z95 = stats.norm.ppf((1+0.9)/2)\n",
    "err = z95*np.sqrt((var_x+var_y)/(n))\n",
    "interval = (X_bar-Y_bar)+np.array([-err, err])\n",
    "var_interval = [(var_y/var_x)*stats.f.ppf((1-.9)/2, n-1, n-1), (var_y/var_x)*stats.f.ppf((1+.9)/2, n-1, n-2)]\n",
    "interval, err, Y_bar-X_bar, var_interval, stats.f.ppf((1-.9)/2, n-1, n-1), stats.f.ppf((1+.9)/2, n-1, n-2)"
   ]
  }
 ],
 "metadata": {
  "kernelspec": {
   "display_name": "Python 3.10.3 64-bit (system)",
   "language": "python",
   "name": "python3"
  },
  "language_info": {
   "codemirror_mode": {
    "name": "ipython",
    "version": 3
   },
   "file_extension": ".py",
   "mimetype": "text/x-python",
   "name": "python",
   "nbconvert_exporter": "python",
   "pygments_lexer": "ipython3",
   "version": "3.10.3"
  },
  "orig_nbformat": 4,
  "vscode": {
   "interpreter": {
    "hash": "b17fd1dddc0eea5a4c6c6ad83be792ca69104a4423dd05112dcf37de05bc9667"
   }
  }
 },
 "nbformat": 4,
 "nbformat_minor": 2
}
