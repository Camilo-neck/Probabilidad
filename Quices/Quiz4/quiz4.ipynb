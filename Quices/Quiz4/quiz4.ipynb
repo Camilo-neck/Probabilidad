{
 "cells": [
  {
   "cell_type": "code",
   "execution_count": 1,
   "metadata": {},
   "outputs": [],
   "source": [
    "import numpy as np\n",
    "import pandas as pd\n",
    "import scipy.stats as stats"
   ]
  },
  {
   "cell_type": "code",
   "execution_count": 8,
   "metadata": {},
   "outputs": [
    {
     "name": "stdout",
     "output_type": "stream",
     "text": [
      "83\n",
      "xb: x    3.998535\n",
      "dtype: float64\n",
      "sigma: x    4.06908\n",
      "dtype: float64\n",
      "ME: x    1.150467\n",
      "dtype: float64\n",
      "li: x    2.848068\n",
      "dtype: float64\n",
      "ls: x    5.149002\n",
      "dtype: float64\n",
      "A: x    2.300934\n",
      "dtype: float64\n"
     ]
    }
   ],
   "source": [
    "# Get data and initialize distribution\n",
    "DATA = pd.read_csv('datos_brutos.csv')\n",
    "norm = stats.norm()\n",
    "\n",
    "n = len(DATA) # Number of observations\n",
    "\n",
    "# Get answers\n",
    "xb = DATA.mean() # Mean\n",
    "sigma = DATA.std() # Standard deviation\n",
    "z = norm.ppf(0.99+(1-0.99)/2) # z-score\n",
    "ME = z*sigma/np.sqrt(n) # Marginal error\n",
    "\n",
    "# Limits\n",
    "li = xb-ME\n",
    "ls = xb+ME\n",
    "\n",
    "# Amplitude\n",
    "A = ls-li\n",
    "\n",
    "# Print answers\n",
    "print(n)\n",
    "print('xb:', xb)\n",
    "print('sigma:', sigma)\n",
    "print('ME:', ME)\n",
    "print('li:', li)\n",
    "print('ls:', ls)\n",
    "print('A:', A)"
   ]
  },
  {
   "cell_type": "code",
   "execution_count": 9,
   "metadata": {},
   "outputs": [
    {
     "name": "stdout",
     "output_type": "stream",
     "text": [
      "n90: 977\n",
      "n95: 1387\n",
      "n99: 2396\n"
     ]
    }
   ],
   "source": [
    "from math import ceil\n",
    "\n",
    "def f(p: int) -> float:\n",
    "\tsigma = 9.5\n",
    "\tME = 0.5\n",
    "\tz = norm.ppf(p+(1-p)/2)\n",
    "\treturn ((z*sigma)/ME)**2\n",
    "\n",
    "n90 = f(0.90)\n",
    "n95 = f(0.95)\n",
    "n99 = f(0.99)\n",
    "\n",
    "print('n90:', ceil(n90))\n",
    "print('n95:', ceil(n95))\n",
    "print('n99:', ceil(n99))"
   ]
  }
 ],
 "metadata": {
  "kernelspec": {
   "display_name": "Python 3.10.3 64-bit (system)",
   "language": "python",
   "name": "python3"
  },
  "language_info": {
   "codemirror_mode": {
    "name": "ipython",
    "version": 3
   },
   "file_extension": ".py",
   "mimetype": "text/x-python",
   "name": "python",
   "nbconvert_exporter": "python",
   "pygments_lexer": "ipython3",
   "version": "3.10.3"
  },
  "orig_nbformat": 4,
  "vscode": {
   "interpreter": {
    "hash": "b17fd1dddc0eea5a4c6c6ad83be792ca69104a4423dd05112dcf37de05bc9667"
   }
  }
 },
 "nbformat": 4,
 "nbformat_minor": 2
}
