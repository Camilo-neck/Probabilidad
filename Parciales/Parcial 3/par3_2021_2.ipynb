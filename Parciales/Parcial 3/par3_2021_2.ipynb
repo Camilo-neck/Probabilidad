{
 "cells": [
  {
   "cell_type": "code",
   "execution_count": 1,
   "metadata": {},
   "outputs": [],
   "source": [
    "import scipy.stats as stats\n",
    "import numpy as np"
   ]
  },
  {
   "cell_type": "code",
   "execution_count": 2,
   "metadata": {},
   "outputs": [
    {
     "data": {
      "text/plain": [
       "array([0.70813233, 0.90056332])"
      ]
     },
     "execution_count": 2,
     "metadata": {},
     "output_type": "execute_result"
    }
   ],
   "source": [
    "err = stats.norm.ppf(1-(0.02)/2)*np.sqrt(((74/92)*(1-(74/92)))/92)\n",
    "interval = (74/92)+np.array([-err,err])\n",
    "interval"
   ]
  },
  {
   "cell_type": "code",
   "execution_count": 9,
   "metadata": {},
   "outputs": [
    {
     "data": {
      "text/plain": [
       "array([-0.10276581, -0.01571783])"
      ]
     },
     "execution_count": 9,
     "metadata": {},
     "output_type": "execute_result"
    }
   ],
   "source": [
    "px = 151/782\n",
    "py = 162/642\n",
    "p = px-py\n",
    "err = 1.96*np.sqrt((px*(1-px)/782)+((py*(1-py)/642)))\n",
    "interval = p+np.array([-err,err])\n",
    "interval"
   ]
  },
  {
   "cell_type": "code",
   "execution_count": 8,
   "metadata": {},
   "outputs": [
    {
     "name": "stdout",
     "output_type": "stream",
     "text": [
      "0.34538074149164166\n"
     ]
    },
    {
     "data": {
      "text/plain": [
       "3.4500719038326617e-50"
      ]
     },
     "execution_count": 8,
     "metadata": {},
     "output_type": "execute_result"
    }
   ],
   "source": [
    "est = 10.3/8.4\n",
    "p1 = stats.f.cdf(est, 92, 83)\n",
    "p_value_var = 2*min(p1, 1-p1)\n",
    "print(p_value_var)\n",
    "################\n",
    "# Parte 2\n",
    "################\n",
    "est = (16.9-26.7)/(np.sqrt((1/93)+(1/84))*np.sqrt((92*10.3+83*8.4)/(93+84-2)))\n",
    "reject_region = stats.t.ppf(1-0.01/2, 92+84-2)\n",
    "p_value = 2*min(stats.t.cdf(est, 92+84-2), 1-stats.t.cdf(est, 92+84-2))\n",
    "p_value"
   ]
  }
 ],
 "metadata": {
  "kernelspec": {
   "display_name": "Python 3.10.3 64-bit (system)",
   "language": "python",
   "name": "python3"
  },
  "language_info": {
   "codemirror_mode": {
    "name": "ipython",
    "version": 3
   },
   "file_extension": ".py",
   "mimetype": "text/x-python",
   "name": "python",
   "nbconvert_exporter": "python",
   "pygments_lexer": "ipython3",
   "version": "3.10.3"
  },
  "orig_nbformat": 4,
  "vscode": {
   "interpreter": {
    "hash": "b17fd1dddc0eea5a4c6c6ad83be792ca69104a4423dd05112dcf37de05bc9667"
   }
  }
 },
 "nbformat": 4,
 "nbformat_minor": 2
}
