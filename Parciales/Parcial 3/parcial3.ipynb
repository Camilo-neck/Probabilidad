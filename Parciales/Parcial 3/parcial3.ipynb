{
 "cells": [
  {
   "cell_type": "code",
   "execution_count": 2,
   "metadata": {},
   "outputs": [],
   "source": [
    "import scipy.stats as stats\n",
    "import numpy as np\n",
    "import pandas as pd"
   ]
  },
  {
   "cell_type": "markdown",
   "metadata": {},
   "source": [
    "<img src=\".\\Images\\Punto1.jpg\" width=\"50%\"/>"
   ]
  },
  {
   "cell_type": "code",
   "execution_count": 122,
   "metadata": {},
   "outputs": [
    {
     "name": "stdout",
     "output_type": "stream",
     "text": [
      "[[5.54472305]\n",
      " [6.53527695]]\n"
     ]
    }
   ],
   "source": [
    "## Punto 1\n",
    "DATA1 = pd.read_csv('datos.csv')\n",
    "n = len(DATA1)\n",
    "mean = DATA1.mean()\n",
    "std = DATA1.std()\n",
    "alpha = 0.03\n",
    "z = stats.t.ppf(1-alpha/2, n-1)\n",
    "err = z * std/np.sqrt(n)\n",
    "interval = mean[0] +np.array([-err, err])\n",
    "\n",
    "print(interval)"
   ]
  },
  {
   "cell_type": "markdown",
   "metadata": {},
   "source": [
    "<img src=\".\\Images\\Punto2.jpg\" width=\"50%\"/>"
   ]
  },
  {
   "cell_type": "code",
   "execution_count": 124,
   "metadata": {},
   "outputs": [
    {
     "data": {
      "text/plain": [
       "array([0.70191256, 0.89808744])"
      ]
     },
     "execution_count": 124,
     "metadata": {},
     "output_type": "execute_result"
    }
   ],
   "source": [
    "## Punto 2\n",
    "p = 72/90\n",
    "err = stats.norm.ppf(1-(0.02)/2)*np.sqrt((p*(1-p))/90)\n",
    "interval = p+np.array([-err,err])\n",
    "interval"
   ]
  },
  {
   "cell_type": "markdown",
   "metadata": {},
   "source": [
    "<img src=\".\\Images\\Punto3.jpg\" width=\"50%\"/>"
   ]
  },
  {
   "cell_type": "code",
   "execution_count": 127,
   "metadata": {},
   "outputs": [
    {
     "data": {
      "text/plain": [
       "array([-0.0668922 ,  0.05550484])"
      ]
     },
     "execution_count": 127,
     "metadata": {},
     "output_type": "execute_result"
    }
   ],
   "source": [
    "## Punto 3\n",
    "px = 318/822\n",
    "py = 232/591\n",
    "p = px-py\n",
    "alpha = 0.02\n",
    "z = stats.norm.ppf(1-alpha/2)\n",
    "err = z*np.sqrt((px*(1-px)/822)+((py*(1-py)/591)))\n",
    "interval = p+np.array([-err,err])\n",
    "interval"
   ]
  },
  {
   "cell_type": "markdown",
   "metadata": {},
   "source": [
    "<img src=\".\\Images\\Punto4.jpg\" width=\"50%\"/>"
   ]
  },
  {
   "cell_type": "code",
   "execution_count": 141,
   "metadata": {},
   "outputs": [
    {
     "name": "stdout",
     "output_type": "stream",
     "text": [
      "Valor p de la varianza: 3.928830758223898e-06\n",
      "Se rechaza la hipotesis nula. Las varianzas son heterosedásticas.\n",
      "-----------------------------------------------------\n",
      "Estadístico de prueba: 11.48122167962623\n",
      "Región de rechazo: 1.7049992328415078\n",
      "Valor p: 0.0\n",
      "Se rechaza la hipotesis nula. No se entrega credito a los dos.\n"
     ]
    }
   ],
   "source": [
    "import math\n",
    "## Punto 4\n",
    "n1 = 91\n",
    "n2 = 103\n",
    "xb1 = 20.5\n",
    "xb2 = 16.1\n",
    "s1 = 4\n",
    "s2 = 10.6\n",
    "alpha=0.09\n",
    "####################################################\n",
    "est = s1/s2\n",
    "p1 = stats.f.cdf(est, 90, 102)\n",
    "p_value_var = 2*min(p1, 1-p1)\n",
    "print(\"Valor p de la varianza:\",p_value_var)\n",
    "if p_value_var < alpha:\n",
    "\tprint('Se rechaza la hipotesis nula. Las varianzas son heterosedásticas.')\n",
    "else:\n",
    "\tprint('No se rechaza la hipotesis nula. Las varianzas son homosedásticas.')\n",
    "\n",
    "print('-----------------------------------------------------')\n",
    "################\n",
    "# Parte 2\n",
    "################\n",
    "# est = (16.9-26.7)/(np.sqrt((1/93)+(1/84))*np.sqrt((92*10.3+83*8.4)/(93+84-2)))\n",
    "est = (xb1-xb2- 0)/np.sqrt(s1/n1 + s2/n2)\n",
    "# reject_region = stats.t.ppf(1-0.01/2, 92+84-2)\n",
    "f = (s1/n1 + s2/n2)**2/((s1/n1)**2/(n1-1) + (s2/n2)**2/(n2-1))\n",
    "reject_region = stats.t.ppf(1-alpha/2, round(f))\n",
    "p_value = 2*min(stats.t.cdf(est, f-1), 1-stats.t.cdf(est, f-1))\n",
    "print(\"Estadístico de prueba:\",est)\n",
    "print(\"Región de rechazo:\",reject_region)\n",
    "print(\"Valor p:\",p_value)\n",
    "if p_value < alpha:\n",
    "\tprint('Se rechaza la hipotesis nula. No se entrega credito a los dos.')\n",
    "else:\n",
    "\tprint('No se rechaza la hipotesis nula. Se otorga crédito a los dos.')"
   ]
  },
  {
   "cell_type": "markdown",
   "metadata": {},
   "source": [
    "<img src=\".\\Images\\Punto5.jpg\" width=\"50%\"/>"
   ]
  },
  {
   "cell_type": "code",
   "execution_count": 132,
   "metadata": {},
   "outputs": [
    {
     "data": {
      "text/plain": [
       "(            Desempleado  Formal  Informal\n",
       " facultad                                 \n",
       " Ciencias             68      14        68\n",
       " Ingeniería           22       6        13\n",
       " Medicina             65      19        73,\n",
       " 348)"
      ]
     },
     "execution_count": 132,
     "metadata": {},
     "output_type": "execute_result"
    }
   ],
   "source": [
    "## Punto 5\n",
    "DATA2 = pd.read_csv('datos_brutos1.csv', encoding='utf-8')\n",
    "n = len(DATA2)\n",
    "## Hacer tabla de frecuencias facultad/empleo\n",
    "freq = DATA2.groupby(['facultad','empleo']).size().reset_index(name='count')\n",
    "freq = freq.pivot(index='facultad', columns='empleo', values='count')\n",
    "freq.columns = DATA2.empleo.unique()\n",
    "freq, n"
   ]
  }
 ],
 "metadata": {
  "kernelspec": {
   "display_name": "Python 3.10.3 64-bit (system)",
   "language": "python",
   "name": "python3"
  },
  "language_info": {
   "codemirror_mode": {
    "name": "ipython",
    "version": 3
   },
   "file_extension": ".py",
   "mimetype": "text/x-python",
   "name": "python",
   "nbconvert_exporter": "python",
   "pygments_lexer": "ipython3",
   "version": "3.10.3"
  },
  "orig_nbformat": 4,
  "vscode": {
   "interpreter": {
    "hash": "b17fd1dddc0eea5a4c6c6ad83be792ca69104a4423dd05112dcf37de05bc9667"
   }
  }
 },
 "nbformat": 4,
 "nbformat_minor": 2
}
